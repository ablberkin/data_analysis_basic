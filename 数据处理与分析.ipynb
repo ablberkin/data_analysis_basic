{
 "cells": [
  {
   "cell_type": "code",
   "execution_count": 1,
   "id": "abroad-booking",
   "metadata": {},
   "outputs": [],
   "source": [
    "import numpy as np\n",
    "import pandas as pd"
   ]
  },
  {
   "cell_type": "code",
   "execution_count": 2,
   "id": "solved-separation",
   "metadata": {},
   "outputs": [
    {
     "data": {
      "text/html": [
       "<div>\n",
       "<style scoped>\n",
       "    .dataframe tbody tr th:only-of-type {\n",
       "        vertical-align: middle;\n",
       "    }\n",
       "\n",
       "    .dataframe tbody tr th {\n",
       "        vertical-align: top;\n",
       "    }\n",
       "\n",
       "    .dataframe thead th {\n",
       "        text-align: right;\n",
       "    }\n",
       "</style>\n",
       "<table border=\"1\" class=\"dataframe\">\n",
       "  <thead>\n",
       "    <tr style=\"text-align: right;\">\n",
       "      <th></th>\n",
       "      <th>价格</th>\n",
       "      <th>网址</th>\n",
       "      <th>商品名称</th>\n",
       "      <th>裸机重量</th>\n",
       "      <th>厚度</th>\n",
       "      <th>屏幕尺寸</th>\n",
       "      <th>待机时长</th>\n",
       "      <th>屏幕色域</th>\n",
       "      <th>系统</th>\n",
       "      <th>处理器</th>\n",
       "      <th>内存</th>\n",
       "      <th>固态硬盘</th>\n",
       "      <th>显卡</th>\n",
       "    </tr>\n",
       "  </thead>\n",
       "  <tbody>\n",
       "    <tr>\n",
       "      <th>0</th>\n",
       "      <td>8999</td>\n",
       "      <td>//item.jd.com/100010793473.html</td>\n",
       "      <td>联想拯救者R9000P</td>\n",
       "      <td>none</td>\n",
       "      <td>20.0mm以上</td>\n",
       "      <td>16.0-16.9英寸</td>\n",
       "      <td>none</td>\n",
       "      <td>100%sRGB</td>\n",
       "      <td>Windows 10 带Office</td>\n",
       "      <td>AMD R7</td>\n",
       "      <td>16GB</td>\n",
       "      <td>512GB</td>\n",
       "      <td>RTX3060</td>\n",
       "    </tr>\n",
       "    <tr>\n",
       "      <th>1</th>\n",
       "      <td>8999</td>\n",
       "      <td>//item.jd.com/100020923600.html</td>\n",
       "      <td>惠普16-b0007TX</td>\n",
       "      <td>none</td>\n",
       "      <td>20.0mm以上</td>\n",
       "      <td>16.0-16.9英寸</td>\n",
       "      <td>none</td>\n",
       "      <td>100%sRGB</td>\n",
       "      <td>Windows 10 带Office</td>\n",
       "      <td>Intel i7</td>\n",
       "      <td>16GB</td>\n",
       "      <td>512GB</td>\n",
       "      <td>RTX3060</td>\n",
       "    </tr>\n",
       "    <tr>\n",
       "      <th>2</th>\n",
       "      <td>9999</td>\n",
       "      <td>//item.jd.com/100019736906.html</td>\n",
       "      <td>联想拯救者R9000P</td>\n",
       "      <td>none</td>\n",
       "      <td>20.0mm以上</td>\n",
       "      <td>16.0-16.9英寸</td>\n",
       "      <td>none</td>\n",
       "      <td>100%sRGB</td>\n",
       "      <td>Windows 10 带Office</td>\n",
       "      <td>AMD R7</td>\n",
       "      <td>16GB</td>\n",
       "      <td>512GB</td>\n",
       "      <td>RTX3070</td>\n",
       "    </tr>\n",
       "    <tr>\n",
       "      <th>3</th>\n",
       "      <td>6799</td>\n",
       "      <td>//item.jd.com/100022003044.html</td>\n",
       "      <td>联想拯救者Y7000</td>\n",
       "      <td>none</td>\n",
       "      <td>20.0mm以上</td>\n",
       "      <td>15.0-15.9英寸</td>\n",
       "      <td>none</td>\n",
       "      <td>100%sRGB</td>\n",
       "      <td>Windows 10 带Office</td>\n",
       "      <td>Intel i5</td>\n",
       "      <td>16GB</td>\n",
       "      <td>512GB</td>\n",
       "      <td>RTX3050</td>\n",
       "    </tr>\n",
       "    <tr>\n",
       "      <th>4</th>\n",
       "      <td>4899</td>\n",
       "      <td>//item.jd.com/100021781178.html</td>\n",
       "      <td>none</td>\n",
       "      <td>none</td>\n",
       "      <td>none</td>\n",
       "      <td>none</td>\n",
       "      <td>none</td>\n",
       "      <td>none</td>\n",
       "      <td>none</td>\n",
       "      <td>none</td>\n",
       "      <td>none</td>\n",
       "      <td>none</td>\n",
       "      <td>none</td>\n",
       "    </tr>\n",
       "    <tr>\n",
       "      <th>...</th>\n",
       "      <td>...</td>\n",
       "      <td>...</td>\n",
       "      <td>...</td>\n",
       "      <td>...</td>\n",
       "      <td>...</td>\n",
       "      <td>...</td>\n",
       "      <td>...</td>\n",
       "      <td>...</td>\n",
       "      <td>...</td>\n",
       "      <td>...</td>\n",
       "      <td>...</td>\n",
       "      <td>...</td>\n",
       "      <td>...</td>\n",
       "    </tr>\n",
       "    <tr>\n",
       "      <th>295</th>\n",
       "      <td>10099</td>\n",
       "      <td>//item.jd.com/100017970852.html</td>\n",
       "      <td>华硕灵耀X</td>\n",
       "      <td>1.5-2kg</td>\n",
       "      <td>15.1-18.0mm</td>\n",
       "      <td>14.0-14.9英寸</td>\n",
       "      <td>none</td>\n",
       "      <td>none</td>\n",
       "      <td>Windows 10 带Office</td>\n",
       "      <td>Intel i7</td>\n",
       "      <td>16GB</td>\n",
       "      <td>512GB</td>\n",
       "      <td>MX450</td>\n",
       "    </tr>\n",
       "    <tr>\n",
       "      <th>296</th>\n",
       "      <td>2799</td>\n",
       "      <td>//item.jd.com/100024169908.html</td>\n",
       "      <td>宏碁EX215-32-C7SA</td>\n",
       "      <td>1.5-2kg</td>\n",
       "      <td>15.1-18.0mm</td>\n",
       "      <td>15.0-15.9英寸</td>\n",
       "      <td>none</td>\n",
       "      <td>none</td>\n",
       "      <td>Windows 10 不带Office</td>\n",
       "      <td>none</td>\n",
       "      <td>8GB</td>\n",
       "      <td>256GB</td>\n",
       "      <td>none</td>\n",
       "    </tr>\n",
       "    <tr>\n",
       "      <th>297</th>\n",
       "      <td>3199</td>\n",
       "      <td>//item.jd.com/100019498800.html</td>\n",
       "      <td>京东京造JDBook</td>\n",
       "      <td>none</td>\n",
       "      <td>15.1-18.0mm</td>\n",
       "      <td>14.0-14.9英寸</td>\n",
       "      <td>none</td>\n",
       "      <td>none</td>\n",
       "      <td>Windows 10 不带Office</td>\n",
       "      <td>Intel i3</td>\n",
       "      <td>8GB</td>\n",
       "      <td>512GB</td>\n",
       "      <td>none</td>\n",
       "    </tr>\n",
       "    <tr>\n",
       "      <th>298</th>\n",
       "      <td>4999</td>\n",
       "      <td>//item.jd.com/100017751544.html</td>\n",
       "      <td>机械革命F1</td>\n",
       "      <td>1-1.5kg</td>\n",
       "      <td>15.0mm及以下</td>\n",
       "      <td>14.0-14.9英寸</td>\n",
       "      <td>none</td>\n",
       "      <td>none</td>\n",
       "      <td>Windows 10 不带Office</td>\n",
       "      <td>Intel i5</td>\n",
       "      <td>16GB</td>\n",
       "      <td>512GB</td>\n",
       "      <td>none</td>\n",
       "    </tr>\n",
       "    <tr>\n",
       "      <th>299</th>\n",
       "      <td>8199</td>\n",
       "      <td>//item.jd.com/100012301237.html</td>\n",
       "      <td>机械革命蛟龙</td>\n",
       "      <td>2-2.5kg</td>\n",
       "      <td>20.0mm以上</td>\n",
       "      <td>15.0-15.9英寸</td>\n",
       "      <td>小于5小时</td>\n",
       "      <td>100%sRGB</td>\n",
       "      <td>Windows 10 不带Office</td>\n",
       "      <td>AMD R7</td>\n",
       "      <td>16GB</td>\n",
       "      <td>512GB</td>\n",
       "      <td>RTX3060</td>\n",
       "    </tr>\n",
       "  </tbody>\n",
       "</table>\n",
       "<p>300 rows × 13 columns</p>\n",
       "</div>"
      ],
      "text/plain": [
       "        价格                               网址             商品名称     裸机重量  \\\n",
       "0     8999  //item.jd.com/100010793473.html      联想拯救者R9000P     none   \n",
       "1     8999  //item.jd.com/100020923600.html     惠普16-b0007TX     none   \n",
       "2     9999  //item.jd.com/100019736906.html      联想拯救者R9000P     none   \n",
       "3     6799  //item.jd.com/100022003044.html       联想拯救者Y7000     none   \n",
       "4     4899  //item.jd.com/100021781178.html             none     none   \n",
       "..     ...                              ...              ...      ...   \n",
       "295  10099  //item.jd.com/100017970852.html            华硕灵耀X  1.5-2kg   \n",
       "296   2799  //item.jd.com/100024169908.html  宏碁EX215-32-C7SA  1.5-2kg   \n",
       "297   3199  //item.jd.com/100019498800.html       京东京造JDBook     none   \n",
       "298   4999  //item.jd.com/100017751544.html           机械革命F1  1-1.5kg   \n",
       "299   8199  //item.jd.com/100012301237.html           机械革命蛟龙  2-2.5kg   \n",
       "\n",
       "              厚度         屏幕尺寸   待机时长      屏幕色域                   系统       处理器  \\\n",
       "0       20.0mm以上  16.0-16.9英寸   none  100%sRGB   Windows 10 带Office    AMD R7   \n",
       "1       20.0mm以上  16.0-16.9英寸   none  100%sRGB   Windows 10 带Office  Intel i7   \n",
       "2       20.0mm以上  16.0-16.9英寸   none  100%sRGB   Windows 10 带Office    AMD R7   \n",
       "3       20.0mm以上  15.0-15.9英寸   none  100%sRGB   Windows 10 带Office  Intel i5   \n",
       "4           none         none   none      none                 none      none   \n",
       "..           ...          ...    ...       ...                  ...       ...   \n",
       "295  15.1-18.0mm  14.0-14.9英寸   none      none   Windows 10 带Office  Intel i7   \n",
       "296  15.1-18.0mm  15.0-15.9英寸   none      none  Windows 10 不带Office      none   \n",
       "297  15.1-18.0mm  14.0-14.9英寸   none      none  Windows 10 不带Office  Intel i3   \n",
       "298    15.0mm及以下  14.0-14.9英寸   none      none  Windows 10 不带Office  Intel i5   \n",
       "299     20.0mm以上  15.0-15.9英寸  小于5小时  100%sRGB  Windows 10 不带Office    AMD R7   \n",
       "\n",
       "       内存   固态硬盘       显卡  \n",
       "0    16GB  512GB  RTX3060  \n",
       "1    16GB  512GB  RTX3060  \n",
       "2    16GB  512GB  RTX3070  \n",
       "3    16GB  512GB  RTX3050  \n",
       "4    none   none     none  \n",
       "..    ...    ...      ...  \n",
       "295  16GB  512GB    MX450  \n",
       "296   8GB  256GB     none  \n",
       "297   8GB  512GB     none  \n",
       "298  16GB  512GB     none  \n",
       "299  16GB  512GB  RTX3060  \n",
       "\n",
       "[300 rows x 13 columns]"
      ]
     },
     "execution_count": 2,
     "metadata": {},
     "output_type": "execute_result"
    }
   ],
   "source": [
    "data = pd.read_excel(r'C:\\Users\\Albertjin\\Desktop\\前端\\lw爬虫\\数据\\数据.xlsx')\n",
    "data"
   ]
  },
  {
   "cell_type": "markdown",
   "id": "interpreted-photograph",
   "metadata": {},
   "source": [
    "## 数据清洗"
   ]
  },
  {
   "cell_type": "markdown",
   "id": "ancient-prime",
   "metadata": {},
   "source": [
    "### 删除无商品名称的行"
   ]
  },
  {
   "cell_type": "code",
   "execution_count": 3,
   "id": "demographic-swedish",
   "metadata": {},
   "outputs": [],
   "source": [
    "data1 = data\n",
    "j = 0\n",
    "for i in data['商品名称']:\n",
    "    if i == 'none':\n",
    "        data1 = data1.drop(labels=j, axis=0)\n",
    "    j += 1"
   ]
  },
  {
   "cell_type": "markdown",
   "id": "constitutional-millennium",
   "metadata": {},
   "source": [
    "### 修改行索引(删除空行后索引不变，会导致索引有空缺)"
   ]
  },
  {
   "cell_type": "code",
   "execution_count": 4,
   "id": "flying-morris",
   "metadata": {
    "scrolled": true
   },
   "outputs": [
    {
     "data": {
      "text/html": [
       "<div>\n",
       "<style scoped>\n",
       "    .dataframe tbody tr th:only-of-type {\n",
       "        vertical-align: middle;\n",
       "    }\n",
       "\n",
       "    .dataframe tbody tr th {\n",
       "        vertical-align: top;\n",
       "    }\n",
       "\n",
       "    .dataframe thead th {\n",
       "        text-align: right;\n",
       "    }\n",
       "</style>\n",
       "<table border=\"1\" class=\"dataframe\">\n",
       "  <thead>\n",
       "    <tr style=\"text-align: right;\">\n",
       "      <th></th>\n",
       "      <th>价格</th>\n",
       "      <th>网址</th>\n",
       "      <th>商品名称</th>\n",
       "      <th>裸机重量</th>\n",
       "      <th>厚度</th>\n",
       "      <th>屏幕尺寸</th>\n",
       "      <th>待机时长</th>\n",
       "      <th>屏幕色域</th>\n",
       "      <th>系统</th>\n",
       "      <th>处理器</th>\n",
       "      <th>内存</th>\n",
       "      <th>固态硬盘</th>\n",
       "      <th>显卡</th>\n",
       "    </tr>\n",
       "  </thead>\n",
       "  <tbody>\n",
       "    <tr>\n",
       "      <th>0</th>\n",
       "      <td>8999</td>\n",
       "      <td>//item.jd.com/100010793473.html</td>\n",
       "      <td>联想拯救者R9000P</td>\n",
       "      <td>none</td>\n",
       "      <td>20.0mm以上</td>\n",
       "      <td>16.0-16.9英寸</td>\n",
       "      <td>none</td>\n",
       "      <td>100%sRGB</td>\n",
       "      <td>Windows 10 带Office</td>\n",
       "      <td>AMD R7</td>\n",
       "      <td>16GB</td>\n",
       "      <td>512GB</td>\n",
       "      <td>RTX3060</td>\n",
       "    </tr>\n",
       "    <tr>\n",
       "      <th>1</th>\n",
       "      <td>8999</td>\n",
       "      <td>//item.jd.com/100020923600.html</td>\n",
       "      <td>惠普16-b0007TX</td>\n",
       "      <td>none</td>\n",
       "      <td>20.0mm以上</td>\n",
       "      <td>16.0-16.9英寸</td>\n",
       "      <td>none</td>\n",
       "      <td>100%sRGB</td>\n",
       "      <td>Windows 10 带Office</td>\n",
       "      <td>Intel i7</td>\n",
       "      <td>16GB</td>\n",
       "      <td>512GB</td>\n",
       "      <td>RTX3060</td>\n",
       "    </tr>\n",
       "    <tr>\n",
       "      <th>2</th>\n",
       "      <td>9999</td>\n",
       "      <td>//item.jd.com/100019736906.html</td>\n",
       "      <td>联想拯救者R9000P</td>\n",
       "      <td>none</td>\n",
       "      <td>20.0mm以上</td>\n",
       "      <td>16.0-16.9英寸</td>\n",
       "      <td>none</td>\n",
       "      <td>100%sRGB</td>\n",
       "      <td>Windows 10 带Office</td>\n",
       "      <td>AMD R7</td>\n",
       "      <td>16GB</td>\n",
       "      <td>512GB</td>\n",
       "      <td>RTX3070</td>\n",
       "    </tr>\n",
       "    <tr>\n",
       "      <th>3</th>\n",
       "      <td>6799</td>\n",
       "      <td>//item.jd.com/100022003044.html</td>\n",
       "      <td>联想拯救者Y7000</td>\n",
       "      <td>none</td>\n",
       "      <td>20.0mm以上</td>\n",
       "      <td>15.0-15.9英寸</td>\n",
       "      <td>none</td>\n",
       "      <td>100%sRGB</td>\n",
       "      <td>Windows 10 带Office</td>\n",
       "      <td>Intel i5</td>\n",
       "      <td>16GB</td>\n",
       "      <td>512GB</td>\n",
       "      <td>RTX3050</td>\n",
       "    </tr>\n",
       "    <tr>\n",
       "      <th>4</th>\n",
       "      <td>6399</td>\n",
       "      <td>//item.jd.com/100023344932.html</td>\n",
       "      <td>戴尔G15 5511</td>\n",
       "      <td>none</td>\n",
       "      <td>20.0mm以上</td>\n",
       "      <td>15.0-15.9英寸</td>\n",
       "      <td>none</td>\n",
       "      <td>none</td>\n",
       "      <td>Windows 10 带Office</td>\n",
       "      <td>Intel i5</td>\n",
       "      <td>16GB</td>\n",
       "      <td>512GB</td>\n",
       "      <td>RTX3050</td>\n",
       "    </tr>\n",
       "    <tr>\n",
       "      <th>...</th>\n",
       "      <td>...</td>\n",
       "      <td>...</td>\n",
       "      <td>...</td>\n",
       "      <td>...</td>\n",
       "      <td>...</td>\n",
       "      <td>...</td>\n",
       "      <td>...</td>\n",
       "      <td>...</td>\n",
       "      <td>...</td>\n",
       "      <td>...</td>\n",
       "      <td>...</td>\n",
       "      <td>...</td>\n",
       "      <td>...</td>\n",
       "    </tr>\n",
       "    <tr>\n",
       "      <th>257</th>\n",
       "      <td>10099</td>\n",
       "      <td>//item.jd.com/100017970852.html</td>\n",
       "      <td>华硕灵耀X</td>\n",
       "      <td>1.5-2kg</td>\n",
       "      <td>15.1-18.0mm</td>\n",
       "      <td>14.0-14.9英寸</td>\n",
       "      <td>none</td>\n",
       "      <td>none</td>\n",
       "      <td>Windows 10 带Office</td>\n",
       "      <td>Intel i7</td>\n",
       "      <td>16GB</td>\n",
       "      <td>512GB</td>\n",
       "      <td>MX450</td>\n",
       "    </tr>\n",
       "    <tr>\n",
       "      <th>258</th>\n",
       "      <td>2799</td>\n",
       "      <td>//item.jd.com/100024169908.html</td>\n",
       "      <td>宏碁EX215-32-C7SA</td>\n",
       "      <td>1.5-2kg</td>\n",
       "      <td>15.1-18.0mm</td>\n",
       "      <td>15.0-15.9英寸</td>\n",
       "      <td>none</td>\n",
       "      <td>none</td>\n",
       "      <td>Windows 10 不带Office</td>\n",
       "      <td>none</td>\n",
       "      <td>8GB</td>\n",
       "      <td>256GB</td>\n",
       "      <td>none</td>\n",
       "    </tr>\n",
       "    <tr>\n",
       "      <th>259</th>\n",
       "      <td>3199</td>\n",
       "      <td>//item.jd.com/100019498800.html</td>\n",
       "      <td>京东京造JDBook</td>\n",
       "      <td>none</td>\n",
       "      <td>15.1-18.0mm</td>\n",
       "      <td>14.0-14.9英寸</td>\n",
       "      <td>none</td>\n",
       "      <td>none</td>\n",
       "      <td>Windows 10 不带Office</td>\n",
       "      <td>Intel i3</td>\n",
       "      <td>8GB</td>\n",
       "      <td>512GB</td>\n",
       "      <td>none</td>\n",
       "    </tr>\n",
       "    <tr>\n",
       "      <th>260</th>\n",
       "      <td>4999</td>\n",
       "      <td>//item.jd.com/100017751544.html</td>\n",
       "      <td>机械革命F1</td>\n",
       "      <td>1-1.5kg</td>\n",
       "      <td>15.0mm及以下</td>\n",
       "      <td>14.0-14.9英寸</td>\n",
       "      <td>none</td>\n",
       "      <td>none</td>\n",
       "      <td>Windows 10 不带Office</td>\n",
       "      <td>Intel i5</td>\n",
       "      <td>16GB</td>\n",
       "      <td>512GB</td>\n",
       "      <td>none</td>\n",
       "    </tr>\n",
       "    <tr>\n",
       "      <th>261</th>\n",
       "      <td>8199</td>\n",
       "      <td>//item.jd.com/100012301237.html</td>\n",
       "      <td>机械革命蛟龙</td>\n",
       "      <td>2-2.5kg</td>\n",
       "      <td>20.0mm以上</td>\n",
       "      <td>15.0-15.9英寸</td>\n",
       "      <td>小于5小时</td>\n",
       "      <td>100%sRGB</td>\n",
       "      <td>Windows 10 不带Office</td>\n",
       "      <td>AMD R7</td>\n",
       "      <td>16GB</td>\n",
       "      <td>512GB</td>\n",
       "      <td>RTX3060</td>\n",
       "    </tr>\n",
       "  </tbody>\n",
       "</table>\n",
       "<p>262 rows × 13 columns</p>\n",
       "</div>"
      ],
      "text/plain": [
       "        价格                               网址             商品名称     裸机重量  \\\n",
       "0     8999  //item.jd.com/100010793473.html      联想拯救者R9000P     none   \n",
       "1     8999  //item.jd.com/100020923600.html     惠普16-b0007TX     none   \n",
       "2     9999  //item.jd.com/100019736906.html      联想拯救者R9000P     none   \n",
       "3     6799  //item.jd.com/100022003044.html       联想拯救者Y7000     none   \n",
       "4     6399  //item.jd.com/100023344932.html       戴尔G15 5511     none   \n",
       "..     ...                              ...              ...      ...   \n",
       "257  10099  //item.jd.com/100017970852.html            华硕灵耀X  1.5-2kg   \n",
       "258   2799  //item.jd.com/100024169908.html  宏碁EX215-32-C7SA  1.5-2kg   \n",
       "259   3199  //item.jd.com/100019498800.html       京东京造JDBook     none   \n",
       "260   4999  //item.jd.com/100017751544.html           机械革命F1  1-1.5kg   \n",
       "261   8199  //item.jd.com/100012301237.html           机械革命蛟龙  2-2.5kg   \n",
       "\n",
       "              厚度         屏幕尺寸   待机时长      屏幕色域                   系统       处理器  \\\n",
       "0       20.0mm以上  16.0-16.9英寸   none  100%sRGB   Windows 10 带Office    AMD R7   \n",
       "1       20.0mm以上  16.0-16.9英寸   none  100%sRGB   Windows 10 带Office  Intel i7   \n",
       "2       20.0mm以上  16.0-16.9英寸   none  100%sRGB   Windows 10 带Office    AMD R7   \n",
       "3       20.0mm以上  15.0-15.9英寸   none  100%sRGB   Windows 10 带Office  Intel i5   \n",
       "4       20.0mm以上  15.0-15.9英寸   none      none   Windows 10 带Office  Intel i5   \n",
       "..           ...          ...    ...       ...                  ...       ...   \n",
       "257  15.1-18.0mm  14.0-14.9英寸   none      none   Windows 10 带Office  Intel i7   \n",
       "258  15.1-18.0mm  15.0-15.9英寸   none      none  Windows 10 不带Office      none   \n",
       "259  15.1-18.0mm  14.0-14.9英寸   none      none  Windows 10 不带Office  Intel i3   \n",
       "260    15.0mm及以下  14.0-14.9英寸   none      none  Windows 10 不带Office  Intel i5   \n",
       "261     20.0mm以上  15.0-15.9英寸  小于5小时  100%sRGB  Windows 10 不带Office    AMD R7   \n",
       "\n",
       "       内存   固态硬盘       显卡  \n",
       "0    16GB  512GB  RTX3060  \n",
       "1    16GB  512GB  RTX3060  \n",
       "2    16GB  512GB  RTX3070  \n",
       "3    16GB  512GB  RTX3050  \n",
       "4    16GB  512GB  RTX3050  \n",
       "..    ...    ...      ...  \n",
       "257  16GB  512GB    MX450  \n",
       "258   8GB  256GB     none  \n",
       "259   8GB  512GB     none  \n",
       "260  16GB  512GB     none  \n",
       "261  16GB  512GB  RTX3060  \n",
       "\n",
       "[262 rows x 13 columns]"
      ]
     },
     "execution_count": 4,
     "metadata": {},
     "output_type": "execute_result"
    }
   ],
   "source": [
    "data1 = data1.reset_index()\n",
    "data1.drop('index', axis=1)"
   ]
  },
  {
   "cell_type": "markdown",
   "id": "victorian-indonesia",
   "metadata": {},
   "source": [
    "### 删除空缺值较多的行"
   ]
  },
  {
   "cell_type": "code",
   "execution_count": 5,
   "id": "black-legend",
   "metadata": {},
   "outputs": [],
   "source": [
    "data1.replace(np.nan, 'none')\n",
    "data1 = data.dropna(thresh=4)"
   ]
  },
  {
   "cell_type": "markdown",
   "id": "needed-tanzania",
   "metadata": {},
   "source": [
    "### 此外还根据建模的需求，通过Excel对屏幕色域、内存等硬件的表现进行赋分，此处详见数据建模部分"
   ]
  },
  {
   "cell_type": "markdown",
   "id": "crude-conjunction",
   "metadata": {},
   "source": [
    "## 数据预处理\n",
    "- python：品牌分类\n",
    "- Excel：价格分类"
   ]
  },
  {
   "cell_type": "markdown",
   "id": "likely-democracy",
   "metadata": {},
   "source": [
    "### 品牌分类"
   ]
  },
  {
   "cell_type": "code",
   "execution_count": 6,
   "id": "hazardous-johnson",
   "metadata": {
    "collapsed": true
   },
   "outputs": [
    {
     "name": "stderr",
     "output_type": "stream",
     "text": [
      "<ipython-input-6-17ca467f0441>:15: SettingWithCopyWarning: \n",
      "A value is trying to be set on a copy of a slice from a DataFrame\n",
      "\n",
      "See the caveats in the documentation: https://pandas.pydata.org/pandas-docs/stable/user_guide/indexing.html#returning-a-view-versus-a-copy\n",
      "  data1['品牌'][j] = i[0:2]\n",
      "<ipython-input-6-17ca467f0441>:13: SettingWithCopyWarning: \n",
      "A value is trying to be set on a copy of a slice from a DataFrame\n",
      "\n",
      "See the caveats in the documentation: https://pandas.pydata.org/pandas-docs/stable/user_guide/indexing.html#returning-a-view-versus-a-copy\n",
      "  data1['品牌'][j] = '华硕'\n",
      "<ipython-input-6-17ca467f0441>:5: SettingWithCopyWarning: \n",
      "A value is trying to be set on a copy of a slice from a DataFrame\n",
      "\n",
      "See the caveats in the documentation: https://pandas.pydata.org/pandas-docs/stable/user_guide/indexing.html#returning-a-view-versus-a-copy\n",
      "  data1['品牌'][j] = '联想'\n",
      "<ipython-input-6-17ca467f0441>:9: SettingWithCopyWarning: \n",
      "A value is trying to be set on a copy of a slice from a DataFrame\n",
      "\n",
      "See the caveats in the documentation: https://pandas.pydata.org/pandas-docs/stable/user_guide/indexing.html#returning-a-view-versus-a-copy\n",
      "  data1['品牌'][j] = '苹果'\n",
      "<ipython-input-6-17ca467f0441>:7: SettingWithCopyWarning: \n",
      "A value is trying to be set on a copy of a slice from a DataFrame\n",
      "\n",
      "See the caveats in the documentation: https://pandas.pydata.org/pandas-docs/stable/user_guide/indexing.html#returning-a-view-versus-a-copy\n",
      "  data1['品牌'][j] = '机械革命'\n",
      "<ipython-input-6-17ca467f0441>:11: SettingWithCopyWarning: \n",
      "A value is trying to be set on a copy of a slice from a DataFrame\n",
      "\n",
      "See the caveats in the documentation: https://pandas.pydata.org/pandas-docs/stable/user_guide/indexing.html#returning-a-view-versus-a-copy\n",
      "  data1['品牌'][j] = '戴尔'\n"
     ]
    }
   ],
   "source": [
    "j = 0\n",
    "data1['品牌'] =  None\n",
    "for i in data1['商品名称']:\n",
    "    if 'Think' in i:\n",
    "        data1['品牌'][j] = '联想'\n",
    "    elif '机械' in i:\n",
    "        data1['品牌'][j] = '机械革命'\n",
    "    elif 'Mac' in i:\n",
    "        data1['品牌'][j] = '苹果'\n",
    "    elif '外星人' in i:\n",
    "        data1['品牌'][j] = '戴尔'\n",
    "    elif 'RO' in i:\n",
    "        data1['品牌'][j] = '华硕'\n",
    "    else :\n",
    "        data1['品牌'][j] = i[0:2]\n",
    "    j += 1\n",
    "        "
   ]
  },
  {
   "attachments": {
    "image-2.png": {
     "image/png": "[encoded data removed]"
    }
   },
   "cell_type": "markdown",
   "id": "compact-young",
   "metadata": {},
   "source": [
    "### 价格分类(Excel处理)\n",
    "- Excel所需的语法基础更简单，但代价是更加复杂的代码形式以及较弱的数据处理灵活性。\n",
    "#### 源代码：\n",
    ">=IF(C3<3500,\"小于3500\",IF(C3<5000,\"3500-5000\",IF(C3<6500,\"5000-6500\",IF(C3<8000,\"6500-8000\",IF(C3<10000,\"8000-10000\",IF(C3<12000,\"10000-12000\",IF(C3<15000,\"12000-15000\",IF(C3<20000,\"15000-20000\",大于20000))))))))\n",
    "\n",
    "\n",
    "![image-2.png](attachment:image-2.png)"
   ]
  },
  {
   "cell_type": "markdown",
   "id": "asian-variance",
   "metadata": {},
   "source": [
    "### DataFrame数据转化为Excel数据"
   ]
  },
  {
   "cell_type": "code",
   "execution_count": 7,
   "id": "celtic-binary",
   "metadata": {},
   "outputs": [],
   "source": [
    "data1.to_excel(r'C:\\Users\\Albertjin\\Desktop\\数据处理_python.xlsx')"
   ]
  },
  {
   "cell_type": "markdown",
   "id": "western-school",
   "metadata": {},
   "source": [
    "## 数据分析"
   ]
  },
  {
   "cell_type": "code",
   "execution_count": 8,
   "id": "internal-hobby",
   "metadata": {},
   "outputs": [],
   "source": [
    "import matplotlib.pyplot as plt\n",
    "import seaborn as sns\n",
    "#设置字体为楷体，否则中文字体会在图像中显示为乱码\n",
    "plt.rcParams['font.sans-serif'] = ['KaiTi']\n",
    "sns.set_style({'font.sans-serif' : ['KaiTi']})"
   ]
  },
  {
   "cell_type": "markdown",
   "id": "split-three",
   "metadata": {},
   "source": [
    "### 巧用pandas强大的函数库，否则得用循环来统计个数，效率较低\n",
    "### value_counts()适合单行数据统计\n",
    "### groupby()适合多行数据统计，统计方法更加灵活"
   ]
  },
  {
   "cell_type": "code",
   "execution_count": 9,
   "id": "serial-simulation",
   "metadata": {},
   "outputs": [],
   "source": [
    "data1 = pd.read_excel(r'C:\\Users\\Albertjin\\Desktop\\数据处理.xlsx')\n",
    "a = data1['品牌'].value_counts()\n",
    "c = data1.groupby(['品牌']).count()\n",
    "d = c['index'].sort_values(ascending=False)"
   ]
  },
  {
   "cell_type": "markdown",
   "id": "affecting-tribune",
   "metadata": {},
   "source": [
    "#### 对比value_counts()和groupby()函数"
   ]
  },
  {
   "cell_type": "code",
   "execution_count": 10,
   "id": "absent-investing",
   "metadata": {},
   "outputs": [
    {
     "name": "stdout",
     "output_type": "stream",
     "text": [
      "value_counts()函数\n",
      "联想      69\n",
      "华硕      43\n",
      "戴尔      32\n",
      "惠普      18\n",
      "华为      17\n",
      "苹果      16\n",
      "小米      13\n",
      "机械革命    12\n",
      "神舟      10\n",
      "宏碁       9\n",
      "荣耀       8\n",
      "雷神       7\n",
      "微星       3\n",
      "京东       2\n",
      "真我       1\n",
      "攀升       1\n",
      "雷蛇       1\n",
      "Name: 品牌, dtype: int64\n",
      "\n",
      "\n",
      "groupby()函数\n",
      "      Unnamed: 0  Unnamed: 0.1  index  价格  网址  商品名称  裸机重量  厚度  屏幕尺寸  待机时长  \\\n",
      "品牌                                                                          \n",
      "京东             2             2      2   2   2     2     2   2     2     2   \n",
      "华为            17            17     17  17  17    17    17  17    17    17   \n",
      "华硕            43            43     43  43  43    43    43  43    43    43   \n",
      "宏碁             9             9      9   9   9     9     9   9     9     9   \n",
      "小米            13            13     13  13  13    13    13  13    13    13   \n",
      "微星             3             3      3   3   3     3     3   3     3     3   \n",
      "惠普            18            18     18  18  18    18    18  18    18    18   \n",
      "戴尔            32            32     32  32  32    32    32  32    32    32   \n",
      "攀升             1             1      1   1   1     1     1   1     1     1   \n",
      "机械革命          12            12     12  12  12    12    12  12    12    12   \n",
      "真我             1             1      1   1   1     1     1   1     1     1   \n",
      "神舟            10            10     10  10  10    10    10  10    10    10   \n",
      "联想            69            69     69  69  69    69    69  69    69    69   \n",
      "苹果            16            16     16  16  16    16    16  16    16    16   \n",
      "荣耀             8             8      8   8   8     8     8   8     8     8   \n",
      "雷神             7             7      7   7   7     7     7   7     7     7   \n",
      "雷蛇             1             1      1   1   1     1     1   1     1     1   \n",
      "\n",
      "      屏幕色域  系统  处理器  内存  固态硬盘  显卡  价位  \n",
      "品牌                                     \n",
      "京东       2   2    2   2     2   2   2  \n",
      "华为      17  17   17  17    17  17  17  \n",
      "华硕      43  43   43  43    43  43  43  \n",
      "宏碁       9   9    9   9     9   9   9  \n",
      "小米      13  13   13  13    13  13  13  \n",
      "微星       3   3    3   3     3   3   3  \n",
      "惠普      18  18   18  18    18  18  18  \n",
      "戴尔      32  32   32  32    32  32  31  \n",
      "攀升       1   1    1   1     1   1   1  \n",
      "机械革命    12  12   12  12    12  12  12  \n",
      "真我       1   1    1   1     1   1   1  \n",
      "神舟      10  10   10  10    10  10  10  \n",
      "联想      69  69   69  69    69  69  69  \n",
      "苹果      16  16   16  16    16  16  16  \n",
      "荣耀       8   8    8   8     8   8   8  \n",
      "雷神       7   7    7   7     7   7   7  \n",
      "雷蛇       1   1    1   1     1   1   1  \n"
     ]
    }
   ],
   "source": [
    "print(f'value_counts()函数')\n",
    "print(f'{a}\\n\\n')\n",
    "print(f'groupby()函数')\n",
    "print(c)"
   ]
  },
  {
   "cell_type": "code",
   "execution_count": 11,
   "id": "insured-humanitarian",
   "metadata": {},
   "outputs": [
    {
     "data": {
      "image/png": "[encoded data removed]",
      "text/plain": [
       "<Figure size 432x288 with 1 Axes>"
      ]
     },
     "metadata": {
      "needs_background": "light"
     },
     "output_type": "display_data"
    }
   ],
   "source": [
    "p1 = sns.barplot(x=d.index, y=d.values)\n",
    "# 柱状图上显示各个类别的数量\n",
    "j = 0\n",
    "for i in d:\n",
    "    p1.text(j-0.2, i+0.2, i)\n",
    "    j += 1"
   ]
  },
  {
   "cell_type": "code",
   "execution_count": 12,
   "id": "biblical-strap",
   "metadata": {},
   "outputs": [
    {
     "data": {
      "image/png": "[encoded data removed]",
      "text/plain": [
       "<Figure size 432x288 with 1 Axes>"
      ]
     },
     "metadata": {},
     "output_type": "display_data"
    }
   ],
   "source": [
    "a = data1.groupby(['价位']).count()\n",
    "b = a['index'].sort_values()\n",
    "explode = (0.1, 0.1, 0.1, 0.1, 0.1, 0.1, 0.1, 0.1)\n",
    "plt.pie(b, explode=explode, labels = b.index, autopct='%1.2f%%')\n",
    "plt.title('笔记本价位')\n",
    "plt.show()"
   ]
  },
  {
   "cell_type": "code",
   "execution_count": 13,
   "id": "amino-character",
   "metadata": {
    "scrolled": true
   },
   "outputs": [
    {
     "data": {
      "image/png": "[encoded data removed]",
      "text/plain": [
       "<Figure size 432x288 with 1 Axes>"
      ]
     },
     "metadata": {},
     "output_type": "display_data"
    }
   ],
   "source": [
    "a = data1.groupby(['厚度']).count()\n",
    "a.drop(['none'],axis=0, inplace=True)\n",
    "b = a['index'].sort_values()\n",
    "explode = (0.1, 0.1, 0.1, 0.1, 0.1)\n",
    "plt.pie(b, explode=explode, labels = b.index, autopct='%1.2f%%')\n",
    "plt.title('笔记本厚度')\n",
    "plt.show()"
   ]
  },
  {
   "cell_type": "code",
   "execution_count": 86,
   "id": "executed-integration",
   "metadata": {
    "scrolled": false
   },
   "outputs": [
    {
     "data": {
      "text/plain": [
       "<AxesSubplot:xlabel='厚度', ylabel='价格'>"
      ]
     },
     "execution_count": 86,
     "metadata": {},
     "output_type": "execute_result"
    },
    {
     "data": {
      "image/png": "[encoded data removed]",
      "text/plain": [
       "<Figure size 432x288 with 1 Axes>"
      ]
     },
     "metadata": {
      "needs_background": "light"
     },
     "output_type": "display_data"
    }
   ],
   "source": [
    "a = data1.groupby(['厚度'])['价格'].mean()\n",
    "sns.barplot(x=a.index, y=a)\n"
   ]
  },
  {
   "cell_type": "markdown",
   "id": "decimal-material",
   "metadata": {},
   "source": [
    "### 初步结论：\n",
    "#### 品牌：联想占据线上市场的龙头，华硕、戴尔也有较大的市场份额，惠普、华为、苹果等品牌也有一定的市场占有率。\n",
    "#### 5000-8000为价格主流，3500-5000以及8000-10000也有一定份额。\n",
    "#### 笔记本厚度方面，15.1-18.0mm占据主流。但是在轻薄为主流的笔记本市场中，20.0mm的高端价位的笔记本的市场份额依旧不小。"
   ]
  },
  {
   "cell_type": "markdown",
   "id": "personal-operation",
   "metadata": {},
   "source": [
    "### 词云图：数据量比较大且杂的时候应用\n",
    "#### 由于数据量的问题，只爬取了一件商品的前250条评论而非全部评论\n",
    "#### 以https://item.jd.com/100015691164.html 惠普（HP）战66 四代为例\n",
    "#### 爬虫源代码参考：https://mp.weixin.qq.com/s?__biz=MzU3MzQxMjE2NA==&mid=2247497142&idx=1&sn=2317d8b28822b9df6da8527db8627987&chksm=fcc0b39dcbb73a8b9fcf4d04678b7c4eed3092183c9550593be754f51ed4815b5272e7cf249d&mpshare=1&scene=23&srcid=1010rLw3HxASK3I37y97MREC&sharer_sharetime=1633830832101&sharer_shareid=b6bc3cc0c141ac0d89a62581a89908d0#rd"
   ]
  },
  {
   "cell_type": "code",
   "execution_count": null,
   "id": "former-bolivia",
   "metadata": {},
   "outputs": [],
   "source": [
    "import  requests\n",
    "import  json\n",
    "import  time\n",
    "import  openpyxl  #第三方模块，用于操作Excel文件的\n",
    "#模拟浏览器发送请求并获取响应结果\n",
    "import random\n",
    "\n",
    "\n",
    "def get_comments(productId,page):\n",
    "    url='https://club.jd.com/comment/productPageComments.action?callback=fetchJSON_comment98&productId={0}&score=0&sortType=5&page={1}&pageSize=10&isShadowSku=0&fold=1'.format(productId,page) # 商品id\n",
    "    headers = {\n",
    "    'User-Agent': 'Mozilla/5.0 (Windows NT 10.0; Win64; x64) AppleWebKit/537.36 (KHTML, like Gecko) Chrome/92.0.4515.107 Safari/537.36'\n",
    "    }\n",
    "\n",
    "    resp=requests.get(url,headers=headers)\n",
    "    #print(resp.text)  #响应结果进行显示输出\n",
    "    s1=resp.text.replace('fetchJSON_comment98(','') #fetchJSON_comment98(\n",
    "    s=s1.replace(');','')\n",
    "    #将str类型的数据转成json格式的数据\n",
    "    # print(s,type(s))\n",
    "    # print('*'*100)\n",
    "    res=json.loads(s)\n",
    "    print(type(res))\n",
    "    return res\n",
    "\n",
    "\n",
    "\n",
    "    lst=[]  #用于存储提取到的商品数据\n",
    "    for page in range(0,25): \n",
    "        comments=get_comments(productId,page)\n",
    "        comm_lst=comments['comments']   #根据key获取value，根据comments获取到评论的列表（每页有10条评论）\n",
    "        #遍历评论列表，分别获取每条评论的中的内容，颜色，鞋码\n",
    "        for item in comm_lst:   #每条评论又分别是一个字典，再继续根据key获取值\n",
    "            content=item['content']  #获取评论中的内容\n",
    "            color=item['productColor'] #获取评论中的颜色\n",
    "            size=item['productSize'] #鞋码\n",
    "            lst.append([content,color,size])  #将每条评论的信息添加到列表中\n",
    "        time.sleep(3)  #延迟时间，防止程序执行速度太快，被封IP\n",
    "    save(lst)  #调用自己编写的函数，将列表中的数据进行存储\n",
    "    \n",
    "\n",
    "def save(lst):\n",
    "    wk=openpyxl.Workbook () #创建工作薄对象\n",
    "    sheet=wk.active  #获取活动表\n",
    "    #遍历列表，将列表中的数据添加到工作表中,列表中的一条数据，在Excel中是 一行\n",
    "    for item in lst:\n",
    "        sheet.append(item)\n",
    "    #保存到磁盘上\n",
    "    wk.save('电脑销售数据.xlsx')\n",
    "    \n",
    "\n",
    "if __name__ == '__main__':\n",
    "    productId='100015691164' # 单品id\n",
    "    get_info(productId)"
   ]
  },
  {
   "cell_type": "markdown",
   "id": "random-pickup",
   "metadata": {},
   "source": [
    "#### 运用了简单的自然语言处理"
   ]
  },
  {
   "cell_type": "code",
   "execution_count": 14,
   "id": "accessible-worship",
   "metadata": {},
   "outputs": [
    {
     "name": "stdout",
     "output_type": "stream",
     "text": [
      "[('屏幕', 0.16388467304606671), ('轻薄', 0.14301771711416067), ('非常', 0.13726878307998927), ('外观', 0.1222255230154285), ('速度', 0.11522379532542637), ('电脑', 0.11464037256321785), ('散热', 0.10903468490917409), ('开机', 0.10161973822084092), ('惠普', 0.10102055910475169), ('运行', 0.08920056314071866), ('外形', 0.06873900999392685), ('效果', 0.0660252147495731), ('不错', 0.06305719325126032), ('笔记本', 0.060444276228982095), ('键盘', 0.059217178912731955), ('办公', 0.054811373776647), ('清晰', 0.054358332713036576), ('15.6', 0.051291504892845646), ('高色域', 0.05000921727052451), ('很快', 0.04931397890065537)]\n"
     ]
    },
    {
     "data": {
      "image/png": "[encoded data removed]",
      "text/plain": [
       "<Figure size 432x288 with 1 Axes>"
      ]
     },
     "metadata": {
      "needs_background": "light"
     },
     "output_type": "display_data"
    },
    {
     "data": {
      "text/plain": [
       "<wordcloud.wordcloud.WordCloud at 0x27426d43a90>"
      ]
     },
     "execution_count": 14,
     "metadata": {},
     "output_type": "execute_result"
    }
   ],
   "source": [
    "from wordcloud import WordCloud, ImageColorGenerator\n",
    "from PIL import Image\n",
    "import numpy as np\n",
    "import matplotlib.pyplot as plt\n",
    "import jieba.analyse\n",
    "\n",
    "# 打开文本\n",
    "text = open('data.txt', encoding='UTF-8').read()\n",
    "\n",
    "# 提取关键词和权重\n",
    "freq = jieba.analyse.extract_tags(text, topK=200, withWeight=True)\n",
    "print(freq[:20])\n",
    "freq = {i[0]: i[1] for i in freq}\n",
    "\n",
    "# 生成对象\n",
    "mask = np.array(Image.open(\"color_mask.jpeg\"))\n",
    "wc = WordCloud(mask=mask, font_path='Hiragino.ttf', mode='RGBA', background_color=None).generate_from_frequencies(freq)\n",
    "\n",
    "# 从图片中生成颜色\n",
    "image_colors = ImageColorGenerator(mask)\n",
    "wc.recolor(color_func=image_colors)\n",
    "\n",
    "# 显示词云\n",
    "plt.imshow(wc, interpolation='bilinear')\n",
    "plt.axis(\"off\")\n",
    "plt.show()\n",
    "\n",
    "# 保存到文件\n",
    "wc.to_file('wordcloud.png')\n"
   ]
  }
 ],
 "metadata": {
  "kernelspec": {
   "display_name": "Python 3",
   "language": "python",
   "name": "python3"
  },
  "language_info": {
   "codemirror_mode": {
    "name": "ipython",
    "version": 3
   },
   "file_extension": ".py",
   "mimetype": "text/x-python",
   "name": "python",
   "nbconvert_exporter": "python",
   "pygments_lexer": "ipython3",
   "version": "3.8.5"
  }
 },
 "nbformat": 4,
 "nbformat_minor": 5
}

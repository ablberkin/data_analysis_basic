{
 "cells": [
  {
   "cell_type": "code",
   "execution_count": 1,
   "metadata": {},
   "outputs": [],
   "source": [
    "from bs4 import BeautifulSoup as BS\n",
    "import requests\n",
    "import csv\n",
    "import re\n",
    "import pandas as pd\n",
    "from pandas import DataFrame"
   ]
  },
  {
   "cell_type": "code",
   "execution_count": 2,
   "metadata": {},
   "outputs": [],
   "source": [
    "def turnp(i):    #翻页代码\n",
    "    if i == 0:\n",
    "        url='https://search.jd.com/Search?keyword=%E7%AC%94%E8%AE%B0%E6%9C%AC%E7%94%B5%E8%84%91%E8%87%AA%E8%90%A5&psort=3&spm=2.1.0&psort=3&click=0%27'\n",
    "    else:\n",
    "        url='https://search.jd.com/Search?keyword=%E7%AC%94%E8%AE%B0%E6%9C%AC%E7%94%B5%E8%84%91%E8%87%AA%E8%90%A5&psort=3&spm=2.1.0&psort=3&pvid=ce328885a0b24d17852a8d13f6497e27&page='+str(i+1)+'&s='+str(30*i+1)+'&click=0'\n",
    "    return url\n",
    "\n",
    "def gettext(url):  #爬取文本\n",
    "    try:\n",
    "        head={\"User-Agent\":\"Mozilla/5.0 (Windows NT 10.0; WOW64) AppleWebKit/537.36 (KHTML, like Gecko) Chrome/71.0.3578.98 Safari/537.36\"}\n",
    "        r=requests.get(url,headers=head)\n",
    "        r.raise_for_status()\n",
    "        r.encoding=r.apparent_encoding\n",
    "        text=r.text        \n",
    "        return text\n",
    "    except:\n",
    "        return '爬取失败'\n",
    "\n",
    "def get_price_html(text): #爬取每一页上的价格和url地址,返回列表\n",
    "    L_price=[]\n",
    "    L_url=[]\n",
    "    soup=BS(text,'html.parser')\n",
    "    price_all=soup.findAll('i')\n",
    "    url_all=re.findall(r'//item.jd.com/[0-9]+.html',text)\n",
    "    L=[]\n",
    "    for price in price_all:\n",
    "        try:\n",
    "            f=float(price.string)\n",
    "            if f>1000:\n",
    "                L_price.append(f)\n",
    "        except:\n",
    "                continue\n",
    "    for  x_url in url_all:\n",
    "        if x_url not in L_url:\n",
    "            L_url.append(x_url)\n",
    "    #print(len(L_price),len(L_url))\n",
    "    for i in range(len(L_price)):\n",
    "        L.append([L_price[i],L_url[i]])\n",
    "    return L\n",
    "\n"
   ]
  },
  {
   "cell_type": "code",
   "execution_count": 3,
   "metadata": {},
   "outputs": [
    {
     "data": {
      "text/plain": [
       "300"
      ]
     },
     "execution_count": 3,
     "metadata": {},
     "output_type": "execute_result"
    }
   ],
   "source": [
    "L=[]\n",
    "for t in range(10): #遍历10页    \n",
    "    url=turnp(t)    \n",
    "    text=gettext(url)\n",
    "    L1=get_price_html(text)\n",
    "    L.extend(L1)\n",
    "len(L)"
   ]
  },
  {
   "cell_type": "code",
   "execution_count": 4,
   "metadata": {},
   "outputs": [
    {
     "name": "stdout",
     "output_type": "stream",
     "text": [
      "over\n"
     ]
    }
   ],
   "source": [
    "with open('网址.csv','w') as f1: #爬取10页网址与价格，保存为csv文件\n",
    "    f=csv.writer(f1)\n",
    "    for i in L:\n",
    "        f.writerow(i)\n",
    "    print('over')"
   ]
  },
  {
   "cell_type": "code",
   "execution_count": 10,
   "metadata": {},
   "outputs": [],
   "source": [
    "def getinfo(text): #得到每个url的详细信息\n",
    "    soup=BS(text,'html.parser')\n",
    "    m=soup.findAll('li')\n",
    "    L=[]\n",
    "    try:\n",
    "        name=re.search('商品名称：.+?<',str(m))\n",
    "        L.append(name.group()[5:-1])\n",
    "    except:\n",
    "        L.append('none')\n",
    "    try:   \n",
    "        wei=re.search('裸机重量：.+?<',str(m))\n",
    "        L.append(wei.group()[5:-1])\n",
    "    except:\n",
    "        L.append('none')\n",
    "    try:\n",
    "        thi=re.search('厚度：.+?<',str(m))\n",
    "        L.append(thi.group()[3:-1])\n",
    "    except:\n",
    "        L.append('none')\n",
    "    try:\n",
    "        big=re.search('屏幕尺寸：.+?<',str(m))\n",
    "        L.append(big.group()[5:-1])\n",
    "    except:\n",
    "        L.append('none')\n",
    "    try:\n",
    "        time=re.search('待机时长：.+?<',str(m))\n",
    "        L.append(time.group()[5:-1])\n",
    "    except:\n",
    "        L.append('none')\n",
    "    try:\n",
    "        color=re.search('屏幕色域：.+?<',str(m))\n",
    "        L.append(color.group()[5:-1])\n",
    "    except:\n",
    "        L.append('none')\n",
    "    try:\n",
    "        sys=re.search('系统：.+?<',str(m))\n",
    "        L.append(sys.group()[3:-1])\n",
    "    except:\n",
    "        L.append('none')\n",
    "    try:\n",
    "        chuliqi=re.search('处理器：.+?<',str(m))\n",
    "        L.append(chuliqi.group()[4:-1])\n",
    "    except:\n",
    "        L.append('none')\n",
    "    try:\n",
    "        try:\n",
    "            neicun=re.search('内存容量：[0-9]+?GB<',str(m))\n",
    "            L.append(neicun.group()[5:-1])\n",
    "        except:\n",
    "            neicun=re.search('内存：[0-9]+?GB<',str(m))\n",
    "            L.append(neicun.group()[3:-1])    \n",
    "    except:\n",
    "        L.append('none')\n",
    "    try:\n",
    "        yinpan=re.search('固态硬盘（SSD）：[0-9]+?GB<',str(m))\n",
    "        L.append(yinpan.group()[10:-1])    \n",
    "    except:\n",
    "        L.append('none')\n",
    "    try:\n",
    "        try:\n",
    "            xianka=re.search('显卡(型号|类别)：.+?<',str(m))\n",
    "            L.append(xianka.group()[5:-1])\n",
    "        except:\n",
    "            xianka=re.search('显卡：.+?<',str(m))\n",
    "            L.append(xianka.group()[3:-1])\n",
    "    except:\n",
    "        L.append('none')\n",
    "    return L"
   ]
  },
  {
   "cell_type": "code",
   "execution_count": 11,
   "metadata": {},
   "outputs": [
    {
     "name": "stdout",
     "output_type": "stream",
     "text": [
      "over\n"
     ]
    }
   ],
   "source": [
    "with open('网址.csv') as f1: #将数据输出至csv\n",
    "    reader=csv.reader(f1)\n",
    "    i=0\n",
    "    with open('数据.csv','w',encoding='utf-8') as f2:\n",
    "        writer=csv.writer(f2)\n",
    "        writer.writerow(['价格','网址','商品名称','裸机重量','厚度','屏幕尺寸','待机时长','屏幕色域','系统','处理器','内存','固态硬盘','显卡'])\n",
    "        for row in reader:\n",
    "            if i%2==0:\n",
    "                url=row[1]\n",
    "                url='https:'+url\n",
    "                text=gettext(url)\n",
    "                L=getinfo(text)\n",
    "                L=row+L\n",
    "                writer.writerow(L)\n",
    "            i=i+1\n",
    "\n",
    "    print('over')"
   ]
  },
  {
   "cell_type": "code",
   "execution_count": null,
   "metadata": {},
   "outputs": [],
   "source": []
  }
 ],
 "metadata": {
  "kernelspec": {
   "display_name": "Python 3",
   "language": "python",
   "name": "python3"
  },
  "language_info": {
   "codemirror_mode": {
    "name": "ipython",
    "version": 3
   },
   "file_extension": ".py",
   "mimetype": "text/x-python",
   "name": "python",
   "nbconvert_exporter": "python",
   "pygments_lexer": "ipython3",
   "version": "3.8.5"
  }
 },
 "nbformat": 4,
 "nbformat_minor": 4
}
